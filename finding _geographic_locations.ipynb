{
 "cells": [
  {
   "cell_type": "code",
   "execution_count": null,
   "metadata": {},
   "outputs": [],
   "source": [
    "def filter_cities_by_country(city_list, country_name):\n",
    "    if country_name is pd.np.nan:\n",
    "        return city_list\n",
    "    country_iso = gc.get_countries_by_names()[country_name]['iso']\n",
    "    ret_list = []\n",
    "    for city in city_list:\n",
    "        city_data = list(city.values())[0]\n",
    "        if city_data['countrycode'] == country_iso:\n",
    "            ret_list.append(city)\n",
    "    return ret_list\n"
   ]
  },
  {
   "cell_type": "code",
   "execution_count": null,
   "metadata": {},
   "outputs": [],
   "source": [
    "def find_max_population(city_list):\n",
    "    max_city = None\n",
    "    max_pop = -1\n",
    "    for city in city_list:\n",
    "        city_data = list(city.values())[0]\n",
    "        if city_data['population'] > max_pop:\n",
    "            max_pop = city_data['population']\n",
    "            max_city = city\n",
    "    return max_city\n",
    "     "
   ]
  },
  {
   "cell_type": "code",
   "execution_count": null,
   "metadata": {},
   "outputs": [],
   "source": [
    "def find_latitude_longitude(row):\n",
    "    city_name = row['cities']\n",
    "    country_name = row['countries']\n",
    "    possible_cities = gc.get_cities_by_name(row['cities'])\n",
    "    \n",
    "    possible_cities = filter_cities_by_country(possible_cities, country_name)\n",
    "    max_city = find_max_population(possible_cities)\n",
    "\n",
    "    if max_city == None:\n",
    "        print('no match', row['headline'])\n",
    "        return pd.Series([pd.np.nan, pd.np.nan])\n",
    "\n",
    "    found_city = list(max_city.values())[0]\n",
    "    return pd.Series([found_city['latitude'], found_city['longitude']])\n",
    "    "
   ]
  },
  {
   "cell_type": "code",
   "execution_count": null,
   "metadata": {},
   "outputs": [],
   "source": [
    "df[[\"latitude\", \"longitude\"]] = df.apply(find_latitude_longitude, axis=1)\n",
    "df"
   ]
  }
 ],
 "metadata": {
  "kernelspec": {
   "display_name": "Python 3",
   "language": "python",
   "name": "python3"
  },
  "language_info": {
   "codemirror_mode": {
    "name": "ipython",
    "version": 3
   },
   "file_extension": ".py",
   "mimetype": "text/x-python",
   "name": "python",
   "nbconvert_exporter": "python",
   "pygments_lexer": "ipython3",
   "version": "3.7.6"
  }
 },
 "nbformat": 4,
 "nbformat_minor": 4
}
